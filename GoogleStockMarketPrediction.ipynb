{
 "cells": [
  {
   "cell_type": "code",
   "execution_count": 61,
   "id": "e7142235",
   "metadata": {},
   "outputs": [],
   "source": [
    "import pandas_datareader as pdr"
   ]
  },
  {
   "cell_type": "code",
   "execution_count": 63,
   "id": "7da57b2d",
   "metadata": {},
   "outputs": [],
   "source": [
    "df = pdr.get_data_tiingo('GOOGL', api_key=\"your_tiingo_API_key\")"
   ]
  },
  {
   "cell_type": "code",
   "execution_count": 68,
   "id": "671f2e1f",
   "metadata": {},
   "outputs": [],
   "source": [
    "df.to_csv('GOOGL.csv')"
   ]
  },
  {
   "cell_type": "code",
   "execution_count": 69,
   "id": "dd8dc1dd",
   "metadata": {},
   "outputs": [],
   "source": [
    "import pandas as pd"
   ]
  },
  {
   "cell_type": "code",
   "execution_count": 70,
   "id": "17a72180",
   "metadata": {},
   "outputs": [],
   "source": [
    "df = pd.read_csv('GOOGL.csv')"
   ]
  },
  {
   "cell_type": "code",
   "execution_count": 71,
   "id": "ddf65222",
   "metadata": {},
   "outputs": [
    {
     "data": {
      "text/html": [
       "<div>\n",
       "<style scoped>\n",
       "    .dataframe tbody tr th:only-of-type {\n",
       "        vertical-align: middle;\n",
       "    }\n",
       "\n",
       "    .dataframe tbody tr th {\n",
       "        vertical-align: top;\n",
       "    }\n",
       "\n",
       "    .dataframe thead th {\n",
       "        text-align: right;\n",
       "    }\n",
       "</style>\n",
       "<table border=\"1\" class=\"dataframe\">\n",
       "  <thead>\n",
       "    <tr style=\"text-align: right;\">\n",
       "      <th></th>\n",
       "      <th>Unnamed: 0</th>\n",
       "      <th>symbol</th>\n",
       "      <th>date</th>\n",
       "      <th>close</th>\n",
       "      <th>high</th>\n",
       "      <th>low</th>\n",
       "      <th>open</th>\n",
       "      <th>volume</th>\n",
       "      <th>adjClose</th>\n",
       "      <th>adjHigh</th>\n",
       "      <th>adjLow</th>\n",
       "      <th>adjOpen</th>\n",
       "      <th>adjVolume</th>\n",
       "      <th>divCash</th>\n",
       "      <th>splitFactor</th>\n",
       "    </tr>\n",
       "  </thead>\n",
       "  <tbody>\n",
       "    <tr>\n",
       "      <th>0</th>\n",
       "      <td>0</td>\n",
       "      <td>GOOGL</td>\n",
       "      <td>2016-07-08 00:00:00+00:00</td>\n",
       "      <td>717.78</td>\n",
       "      <td>717.9000</td>\n",
       "      <td>708.110</td>\n",
       "      <td>710.56</td>\n",
       "      <td>1497323</td>\n",
       "      <td>717.78</td>\n",
       "      <td>717.9000</td>\n",
       "      <td>708.110</td>\n",
       "      <td>710.56</td>\n",
       "      <td>1497323</td>\n",
       "      <td>0.0</td>\n",
       "      <td>1.0</td>\n",
       "    </tr>\n",
       "    <tr>\n",
       "      <th>1</th>\n",
       "      <td>1</td>\n",
       "      <td>GOOGL</td>\n",
       "      <td>2016-07-11 00:00:00+00:00</td>\n",
       "      <td>727.20</td>\n",
       "      <td>728.9289</td>\n",
       "      <td>718.865</td>\n",
       "      <td>719.42</td>\n",
       "      <td>1441113</td>\n",
       "      <td>727.20</td>\n",
       "      <td>728.9289</td>\n",
       "      <td>718.865</td>\n",
       "      <td>719.42</td>\n",
       "      <td>1441113</td>\n",
       "      <td>0.0</td>\n",
       "      <td>1.0</td>\n",
       "    </tr>\n",
       "    <tr>\n",
       "      <th>2</th>\n",
       "      <td>2</td>\n",
       "      <td>GOOGL</td>\n",
       "      <td>2016-07-12 00:00:00+00:00</td>\n",
       "      <td>732.51</td>\n",
       "      <td>735.6000</td>\n",
       "      <td>727.500</td>\n",
       "      <td>731.92</td>\n",
       "      <td>1328680</td>\n",
       "      <td>732.51</td>\n",
       "      <td>735.6000</td>\n",
       "      <td>727.500</td>\n",
       "      <td>731.92</td>\n",
       "      <td>1328680</td>\n",
       "      <td>0.0</td>\n",
       "      <td>1.0</td>\n",
       "    </tr>\n",
       "    <tr>\n",
       "      <th>3</th>\n",
       "      <td>3</td>\n",
       "      <td>GOOGL</td>\n",
       "      <td>2016-07-13 00:00:00+00:00</td>\n",
       "      <td>729.48</td>\n",
       "      <td>735.5200</td>\n",
       "      <td>729.020</td>\n",
       "      <td>735.52</td>\n",
       "      <td>1021827</td>\n",
       "      <td>729.48</td>\n",
       "      <td>735.5200</td>\n",
       "      <td>729.020</td>\n",
       "      <td>735.52</td>\n",
       "      <td>1021827</td>\n",
       "      <td>0.0</td>\n",
       "      <td>1.0</td>\n",
       "    </tr>\n",
       "    <tr>\n",
       "      <th>4</th>\n",
       "      <td>4</td>\n",
       "      <td>GOOGL</td>\n",
       "      <td>2016-07-14 00:00:00+00:00</td>\n",
       "      <td>735.80</td>\n",
       "      <td>736.1400</td>\n",
       "      <td>730.590</td>\n",
       "      <td>733.94</td>\n",
       "      <td>1070351</td>\n",
       "      <td>735.80</td>\n",
       "      <td>736.1400</td>\n",
       "      <td>730.590</td>\n",
       "      <td>733.94</td>\n",
       "      <td>1070351</td>\n",
       "      <td>0.0</td>\n",
       "      <td>1.0</td>\n",
       "    </tr>\n",
       "  </tbody>\n",
       "</table>\n",
       "</div>"
      ],
      "text/plain": [
       "   Unnamed: 0 symbol                       date   close      high      low  \\\n",
       "0           0  GOOGL  2016-07-08 00:00:00+00:00  717.78  717.9000  708.110   \n",
       "1           1  GOOGL  2016-07-11 00:00:00+00:00  727.20  728.9289  718.865   \n",
       "2           2  GOOGL  2016-07-12 00:00:00+00:00  732.51  735.6000  727.500   \n",
       "3           3  GOOGL  2016-07-13 00:00:00+00:00  729.48  735.5200  729.020   \n",
       "4           4  GOOGL  2016-07-14 00:00:00+00:00  735.80  736.1400  730.590   \n",
       "\n",
       "     open   volume  adjClose   adjHigh   adjLow  adjOpen  adjVolume  divCash  \\\n",
       "0  710.56  1497323    717.78  717.9000  708.110   710.56    1497323      0.0   \n",
       "1  719.42  1441113    727.20  728.9289  718.865   719.42    1441113      0.0   \n",
       "2  731.92  1328680    732.51  735.6000  727.500   731.92    1328680      0.0   \n",
       "3  735.52  1021827    729.48  735.5200  729.020   735.52    1021827      0.0   \n",
       "4  733.94  1070351    735.80  736.1400  730.590   733.94    1070351      0.0   \n",
       "\n",
       "   splitFactor  \n",
       "0          1.0  \n",
       "1          1.0  \n",
       "2          1.0  \n",
       "3          1.0  \n",
       "4          1.0  "
      ]
     },
     "execution_count": 71,
     "metadata": {},
     "output_type": "execute_result"
    }
   ],
   "source": [
    "df.head()"
   ]
  },
  {
   "cell_type": "code",
   "execution_count": 72,
   "id": "32c0d17b",
   "metadata": {},
   "outputs": [
    {
     "data": {
      "text/html": [
       "<div>\n",
       "<style scoped>\n",
       "    .dataframe tbody tr th:only-of-type {\n",
       "        vertical-align: middle;\n",
       "    }\n",
       "\n",
       "    .dataframe tbody tr th {\n",
       "        vertical-align: top;\n",
       "    }\n",
       "\n",
       "    .dataframe thead th {\n",
       "        text-align: right;\n",
       "    }\n",
       "</style>\n",
       "<table border=\"1\" class=\"dataframe\">\n",
       "  <thead>\n",
       "    <tr style=\"text-align: right;\">\n",
       "      <th></th>\n",
       "      <th>Unnamed: 0</th>\n",
       "      <th>symbol</th>\n",
       "      <th>date</th>\n",
       "      <th>close</th>\n",
       "      <th>high</th>\n",
       "      <th>low</th>\n",
       "      <th>open</th>\n",
       "      <th>volume</th>\n",
       "      <th>adjClose</th>\n",
       "      <th>adjHigh</th>\n",
       "      <th>adjLow</th>\n",
       "      <th>adjOpen</th>\n",
       "      <th>adjVolume</th>\n",
       "      <th>divCash</th>\n",
       "      <th>splitFactor</th>\n",
       "    </tr>\n",
       "  </thead>\n",
       "  <tbody>\n",
       "    <tr>\n",
       "      <th>1252</th>\n",
       "      <td>1252</td>\n",
       "      <td>GOOGL</td>\n",
       "      <td>2021-06-29 00:00:00+00:00</td>\n",
       "      <td>2445.45</td>\n",
       "      <td>2460.415</td>\n",
       "      <td>2433.8150</td>\n",
       "      <td>2453.4071</td>\n",
       "      <td>1155436</td>\n",
       "      <td>2445.45</td>\n",
       "      <td>2460.415</td>\n",
       "      <td>2433.8150</td>\n",
       "      <td>2453.4071</td>\n",
       "      <td>1155436</td>\n",
       "      <td>0.0</td>\n",
       "      <td>1.0</td>\n",
       "    </tr>\n",
       "    <tr>\n",
       "      <th>1253</th>\n",
       "      <td>1253</td>\n",
       "      <td>GOOGL</td>\n",
       "      <td>2021-06-30 00:00:00+00:00</td>\n",
       "      <td>2441.79</td>\n",
       "      <td>2445.140</td>\n",
       "      <td>2427.0900</td>\n",
       "      <td>2439.8900</td>\n",
       "      <td>1223699</td>\n",
       "      <td>2441.79</td>\n",
       "      <td>2445.140</td>\n",
       "      <td>2427.0900</td>\n",
       "      <td>2439.8900</td>\n",
       "      <td>1223699</td>\n",
       "      <td>0.0</td>\n",
       "      <td>1.0</td>\n",
       "    </tr>\n",
       "    <tr>\n",
       "      <th>1254</th>\n",
       "      <td>1254</td>\n",
       "      <td>GOOGL</td>\n",
       "      <td>2021-07-01 00:00:00+00:00</td>\n",
       "      <td>2448.89</td>\n",
       "      <td>2451.740</td>\n",
       "      <td>2430.6300</td>\n",
       "      <td>2434.5000</td>\n",
       "      <td>905641</td>\n",
       "      <td>2448.89</td>\n",
       "      <td>2451.740</td>\n",
       "      <td>2430.6300</td>\n",
       "      <td>2434.5000</td>\n",
       "      <td>905641</td>\n",
       "      <td>0.0</td>\n",
       "      <td>1.0</td>\n",
       "    </tr>\n",
       "    <tr>\n",
       "      <th>1255</th>\n",
       "      <td>1255</td>\n",
       "      <td>GOOGL</td>\n",
       "      <td>2021-07-02 00:00:00+00:00</td>\n",
       "      <td>2505.15</td>\n",
       "      <td>2508.080</td>\n",
       "      <td>2461.1900</td>\n",
       "      <td>2463.0000</td>\n",
       "      <td>1300109</td>\n",
       "      <td>2505.15</td>\n",
       "      <td>2508.080</td>\n",
       "      <td>2461.1900</td>\n",
       "      <td>2463.0000</td>\n",
       "      <td>1300109</td>\n",
       "      <td>0.0</td>\n",
       "      <td>1.0</td>\n",
       "    </tr>\n",
       "    <tr>\n",
       "      <th>1256</th>\n",
       "      <td>1256</td>\n",
       "      <td>GOOGL</td>\n",
       "      <td>2021-07-06 00:00:00+00:00</td>\n",
       "      <td>2523.80</td>\n",
       "      <td>2528.560</td>\n",
       "      <td>2491.6501</td>\n",
       "      <td>2512.9700</td>\n",
       "      <td>1320179</td>\n",
       "      <td>2523.80</td>\n",
       "      <td>2528.560</td>\n",
       "      <td>2491.6501</td>\n",
       "      <td>2512.9700</td>\n",
       "      <td>1320179</td>\n",
       "      <td>0.0</td>\n",
       "      <td>1.0</td>\n",
       "    </tr>\n",
       "  </tbody>\n",
       "</table>\n",
       "</div>"
      ],
      "text/plain": [
       "      Unnamed: 0 symbol                       date    close      high  \\\n",
       "1252        1252  GOOGL  2021-06-29 00:00:00+00:00  2445.45  2460.415   \n",
       "1253        1253  GOOGL  2021-06-30 00:00:00+00:00  2441.79  2445.140   \n",
       "1254        1254  GOOGL  2021-07-01 00:00:00+00:00  2448.89  2451.740   \n",
       "1255        1255  GOOGL  2021-07-02 00:00:00+00:00  2505.15  2508.080   \n",
       "1256        1256  GOOGL  2021-07-06 00:00:00+00:00  2523.80  2528.560   \n",
       "\n",
       "            low       open   volume  adjClose   adjHigh     adjLow    adjOpen  \\\n",
       "1252  2433.8150  2453.4071  1155436   2445.45  2460.415  2433.8150  2453.4071   \n",
       "1253  2427.0900  2439.8900  1223699   2441.79  2445.140  2427.0900  2439.8900   \n",
       "1254  2430.6300  2434.5000   905641   2448.89  2451.740  2430.6300  2434.5000   \n",
       "1255  2461.1900  2463.0000  1300109   2505.15  2508.080  2461.1900  2463.0000   \n",
       "1256  2491.6501  2512.9700  1320179   2523.80  2528.560  2491.6501  2512.9700   \n",
       "\n",
       "      adjVolume  divCash  splitFactor  \n",
       "1252    1155436      0.0          1.0  \n",
       "1253    1223699      0.0          1.0  \n",
       "1254     905641      0.0          1.0  \n",
       "1255    1300109      0.0          1.0  \n",
       "1256    1320179      0.0          1.0  "
      ]
     },
     "execution_count": 72,
     "metadata": {},
     "output_type": "execute_result"
    }
   ],
   "source": [
    "df.tail()"
   ]
  },
  {
   "cell_type": "code",
   "execution_count": 73,
   "id": "e6f0bdc5",
   "metadata": {},
   "outputs": [],
   "source": [
    "df1 = df.reset_index()['close']"
   ]
  },
  {
   "cell_type": "code",
   "execution_count": 74,
   "id": "0d1ed565",
   "metadata": {},
   "outputs": [
    {
     "data": {
      "text/plain": [
       "(1257,)"
      ]
     },
     "execution_count": 74,
     "metadata": {},
     "output_type": "execute_result"
    }
   ],
   "source": [
    "df1.shape"
   ]
  },
  {
   "cell_type": "code",
   "execution_count": 75,
   "id": "f1387e00",
   "metadata": {},
   "outputs": [
    {
     "data": {
      "text/plain": [
       "0        717.78\n",
       "1        727.20\n",
       "2        732.51\n",
       "3        729.48\n",
       "4        735.80\n",
       "         ...   \n",
       "1252    2445.45\n",
       "1253    2441.79\n",
       "1254    2448.89\n",
       "1255    2505.15\n",
       "1256    2523.80\n",
       "Name: close, Length: 1257, dtype: float64"
      ]
     },
     "execution_count": 75,
     "metadata": {},
     "output_type": "execute_result"
    }
   ],
   "source": [
    "df1"
   ]
  },
  {
   "cell_type": "code",
   "execution_count": 76,
   "id": "35abc1e9",
   "metadata": {},
   "outputs": [
    {
     "data": {
      "text/plain": [
       "[<matplotlib.lines.Line2D at 0x28d0f24c6a0>]"
      ]
     },
     "execution_count": 76,
     "metadata": {},
     "output_type": "execute_result"
    },
    {
     "data": {
      "image/png": "[encoded data removed]",
      "text/plain": [
       "<Figure size 432x288 with 1 Axes>"
      ]
     },
     "metadata": {
      "needs_background": "light"
     },
     "output_type": "display_data"
    }
   ],
   "source": [
    "import matplotlib.pyplot as plt\n",
    "plt.plot(df1)"
   ]
  },
  {
   "cell_type": "code",
   "execution_count": 77,
   "id": "23bac1d7",
   "metadata": {},
   "outputs": [],
   "source": [
    "import numpy as np"
   ]
  },
  {
   "cell_type": "code",
   "execution_count": 78,
   "id": "ef8f1596",
   "metadata": {},
   "outputs": [],
   "source": [
    "from sklearn.preprocessing import MinMaxScaler\n",
    "scaler = MinMaxScaler(feature_range=(0,1))\n",
    "df1 = scaler.fit_transform(np.array(df1).reshape(-1,1))"
   ]
  },
  {
   "cell_type": "code",
   "execution_count": 79,
   "id": "941b7d67",
   "metadata": {},
   "outputs": [
    {
     "data": {
      "text/plain": [
       "(1257, 1)"
      ]
     },
     "execution_count": 79,
     "metadata": {},
     "output_type": "execute_result"
    }
   ],
   "source": [
    "df1.shape"
   ]
  },
  {
   "cell_type": "code",
   "execution_count": 80,
   "id": "544ad4ab",
   "metadata": {},
   "outputs": [
    {
     "data": {
      "text/plain": [
       "array([[0.        ],\n",
       "       [0.00521589],\n",
       "       [0.00815606],\n",
       "       ...,\n",
       "       [0.95852205],\n",
       "       [0.98967343],\n",
       "       [1.        ]])"
      ]
     },
     "execution_count": 80,
     "metadata": {},
     "output_type": "execute_result"
    }
   ],
   "source": [
    "df1"
   ]
  },
  {
   "cell_type": "code",
   "execution_count": 81,
   "id": "96edc1dd",
   "metadata": {},
   "outputs": [],
   "source": [
    "training_size = int(len(df1)*0.65)\n",
    "test_size = len(df1) - training_size\n",
    "train_data, test_data = df1[0:training_size,:], df1[training_size:len(df1), :1]"
   ]
  },
  {
   "cell_type": "code",
   "execution_count": 82,
   "id": "0ce0c50f",
   "metadata": {},
   "outputs": [
    {
     "data": {
      "text/plain": [
       "817"
      ]
     },
     "execution_count": 82,
     "metadata": {},
     "output_type": "execute_result"
    }
   ],
   "source": [
    "training_size"
   ]
  },
  {
   "cell_type": "code",
   "execution_count": 83,
   "id": "dd45ca01",
   "metadata": {},
   "outputs": [
    {
     "data": {
      "text/plain": [
       "440"
      ]
     },
     "execution_count": 83,
     "metadata": {},
     "output_type": "execute_result"
    }
   ],
   "source": [
    "test_size"
   ]
  },
  {
   "cell_type": "code",
   "execution_count": 84,
   "id": "6cd8ddde",
   "metadata": {},
   "outputs": [],
   "source": [
    "def create_dataset(dataset, time_step=1):\n",
    "    dataX, dataY = [], []\n",
    "    for i in range(len(dataset) - time_step - 1):\n",
    "        a = dataset[i:(i+time_step), 0]\n",
    "        dataX.append(a)\n",
    "        dataY.append(dataset[i+time_step, 0])\n",
    "    return np.array(dataX), np.array(dataY)"
   ]
  },
  {
   "cell_type": "code",
   "execution_count": 85,
   "id": "1cced74f",
   "metadata": {},
   "outputs": [],
   "source": [
    "time_step = 100\n",
    "X_train, Y_train = create_dataset(train_data, time_step)\n",
    "X_test, Y_test = create_dataset(test_data, time_step)"
   ]
  },
  {
   "cell_type": "code",
   "execution_count": 86,
   "id": "aa9db080",
   "metadata": {},
   "outputs": [
    {
     "name": "stdout",
     "output_type": "stream",
     "text": [
      "[[0.         0.00521589 0.00815606 ... 0.03389774 0.0345788  0.03765739]\n",
      " [0.00521589 0.00815606 0.00647833 ... 0.0345788  0.03765739 0.03967841]\n",
      " [0.00815606 0.00647833 0.00997774 ... 0.03765739 0.03967841 0.03217019]\n",
      " ...\n",
      " [0.24927188 0.24908916 0.23189666 ... 0.29042314 0.28137562 0.27871231]\n",
      " [0.24908916 0.23189666 0.22540171 ... 0.28137562 0.27871231 0.27032923]\n",
      " [0.23189666 0.22540171 0.25083886 ... 0.27871231 0.27032923 0.25478123]]\n"
     ]
    }
   ],
   "source": [
    "print(X_train)"
   ]
  },
  {
   "cell_type": "code",
   "execution_count": 87,
   "id": "42bd3306",
   "metadata": {},
   "outputs": [
    {
     "data": {
      "text/plain": [
       "((716, 100), (716,))"
      ]
     },
     "execution_count": 87,
     "metadata": {},
     "output_type": "execute_result"
    }
   ],
   "source": [
    "X_train.shape, Y_train.shape"
   ]
  },
  {
   "cell_type": "code",
   "execution_count": 99,
   "id": "a0b8bc3b",
   "metadata": {},
   "outputs": [],
   "source": [
    "X_train = X_train.reshape(X_train.shape[0], X_train.shape[1], 1)\n",
    "X_test = X_test.reshape(X_test.shape[0], X_test.shape[1], 1)"
   ]
  },
  {
   "cell_type": "code",
   "execution_count": 100,
   "id": "251cd638",
   "metadata": {},
   "outputs": [],
   "source": [
    "from tensorflow.keras.models import Sequential\n",
    "from tensorflow.keras.layers import Dense\n",
    "from tensorflow.keras.layers import LSTM"
   ]
  },
  {
   "cell_type": "code",
   "execution_count": 101,
   "id": "2a980455",
   "metadata": {},
   "outputs": [],
   "source": [
    "model = Sequential()\n",
    "model.add(LSTM(50, return_sequences = True, input_shape = (100,1)))\n",
    "model.add(LSTM(50, return_sequences = True))\n",
    "model.add(LSTM(50))\n",
    "model.add(Dense(1))\n",
    "model.compile(loss = 'mean_squared_error', optimizer = 'adam')"
   ]
  },
  {
   "cell_type": "code",
   "execution_count": 102,
   "id": "5d8e4cbb",
   "metadata": {},
   "outputs": [
    {
     "name": "stdout",
     "output_type": "stream",
     "text": [
      "Model: \"sequential_2\"\n",
      "_________________________________________________________________\n",
      "Layer (type)                 Output Shape              Param #   \n",
      "=================================================================\n",
      "lstm_6 (LSTM)                (None, 100, 50)           10400     \n",
      "_________________________________________________________________\n",
      "lstm_7 (LSTM)                (None, 100, 50)           20200     \n",
      "_________________________________________________________________\n",
      "lstm_8 (LSTM)                (None, 50)                20200     \n",
      "_________________________________________________________________\n",
      "dense_2 (Dense)              (None, 1)                 51        \n",
      "=================================================================\n",
      "Total params: 50,851\n",
      "Trainable params: 50,851\n",
      "Non-trainable params: 0\n",
      "_________________________________________________________________\n"
     ]
    }
   ],
   "source": [
    "model.summary()"
   ]
  },
  {
   "cell_type": "code",
   "execution_count": 103,
   "id": "b7546c96",
   "metadata": {},
   "outputs": [
    {
     "name": "stdout",
     "output_type": "stream",
     "text": [
      "Epoch 1/10\n",
      "12/12 [==============================] - 7s 280ms/step - loss: 0.0104 - val_loss: 0.0815\n",
      "Epoch 2/10\n",
      "12/12 [==============================] - 2s 186ms/step - loss: 0.0021 - val_loss: 0.0209\n",
      "Epoch 3/10\n",
      "12/12 [==============================] - 2s 182ms/step - loss: 0.0011 - val_loss: 0.0198\n",
      "Epoch 4/10\n",
      "12/12 [==============================] - 2s 185ms/step - loss: 6.6963e-04 - val_loss: 0.0116\n",
      "Epoch 5/10\n",
      "12/12 [==============================] - 2s 181ms/step - loss: 5.1494e-04 - val_loss: 0.0046\n",
      "Epoch 6/10\n",
      "12/12 [==============================] - 2s 179ms/step - loss: 4.8931e-04 - val_loss: 0.0040\n",
      "Epoch 7/10\n",
      "12/12 [==============================] - 2s 186ms/step - loss: 4.7791e-04 - val_loss: 0.0050\n",
      "Epoch 8/10\n",
      "12/12 [==============================] - 2s 185ms/step - loss: 4.4937e-04 - val_loss: 0.0064\n",
      "Epoch 9/10\n",
      "12/12 [==============================] - 2s 183ms/step - loss: 4.4915e-04 - val_loss: 0.0052\n",
      "Epoch 10/10\n",
      "12/12 [==============================] - 2s 182ms/step - loss: 4.4020e-04 - val_loss: 0.0039\n"
     ]
    },
    {
     "data": {
      "text/plain": [
       "<tensorflow.python.keras.callbacks.History at 0x28d170c5520>"
      ]
     },
     "execution_count": 103,
     "metadata": {},
     "output_type": "execute_result"
    }
   ],
   "source": [
    "model.fit(X_train, Y_train, validation_data = (X_test, Y_test), epochs = 10, batch_size = 64, verbose = 1) "
   ]
  },
  {
   "cell_type": "code",
   "execution_count": 104,
   "id": "1b5e4748",
   "metadata": {},
   "outputs": [],
   "source": [
    "import tensorflow as tf"
   ]
  },
  {
   "cell_type": "code",
   "execution_count": 105,
   "id": "25cf7249",
   "metadata": {},
   "outputs": [],
   "source": [
    "train_predict = model.predict(X_train)\n",
    "test_predict = model.predict(X_test)"
   ]
  },
  {
   "cell_type": "code",
   "execution_count": 106,
   "id": "f7c9ebcc",
   "metadata": {},
   "outputs": [],
   "source": [
    "train_predict = scaler.inverse_transform(train_predict)\n",
    "test_predict = scaler.inverse_transform(test_predict)"
   ]
  },
  {
   "cell_type": "code",
   "execution_count": 107,
   "id": "10a32c8c",
   "metadata": {
    "scrolled": true
   },
   "outputs": [
    {
     "data": {
      "text/plain": [
       "1069.847822996956"
      ]
     },
     "execution_count": 107,
     "metadata": {},
     "output_type": "execute_result"
    }
   ],
   "source": [
    "import math\n",
    "from sklearn.metrics import mean_squared_error\n",
    "math.sqrt(mean_squared_error(Y_train, train_predict))"
   ]
  },
  {
   "cell_type": "code",
   "execution_count": 108,
   "id": "00ddbd56",
   "metadata": {},
   "outputs": [
    {
     "data": {
      "text/plain": [
       "1711.865302483079"
      ]
     },
     "execution_count": 108,
     "metadata": {},
     "output_type": "execute_result"
    }
   ],
   "source": [
    "math.sqrt(mean_squared_error(Y_test, test_predict))"
   ]
  },
  {
   "cell_type": "code",
   "execution_count": 109,
   "id": "310bc131",
   "metadata": {},
   "outputs": [
    {
     "data": {
      "image/png": "[encoded data removed]",
      "text/plain": [
       "<Figure size 432x288 with 1 Axes>"
      ]
     },
     "metadata": {
      "needs_background": "light"
     },
     "output_type": "display_data"
    }
   ],
   "source": [
    "### Plotting \n",
    "# shift train predictions for plotting\n",
    "look_back=100\n",
    "trainPredictPlot = np.empty_like(df1)\n",
    "trainPredictPlot[:, :] = np.nan\n",
    "trainPredictPlot[look_back:len(train_predict)+look_back, :] = train_predict\n",
    "# shift test predictions for plotting\n",
    "testPredictPlot = np.empty_like(df1)\n",
    "testPredictPlot[:, :] = np.nan\n",
    "testPredictPlot[len(train_predict)+(look_back*2)+1:len(df1)-1, :] = test_predict\n",
    "# plot baseline and predictions\n",
    "plt.plot(scaler.inverse_transform(df1))\n",
    "plt.plot(trainPredictPlot)\n",
    "plt.plot(testPredictPlot)\n",
    "plt.show()"
   ]
  },
  {
   "cell_type": "code",
   "execution_count": 110,
   "id": "36c0163a",
   "metadata": {},
   "outputs": [
    {
     "data": {
      "text/plain": [
       "(1, 100)"
      ]
     },
     "execution_count": 110,
     "metadata": {},
     "output_type": "execute_result"
    }
   ],
   "source": [
    "x_input=test_data[340:].reshape(1,-1)\n",
    "x_input.shape"
   ]
  },
  {
   "cell_type": "code",
   "execution_count": 111,
   "id": "840b9eb3",
   "metadata": {},
   "outputs": [],
   "source": [
    "temp_input=list(x_input)\n",
    "temp_input=temp_input[0].tolist()"
   ]
  },
  {
   "cell_type": "code",
   "execution_count": 112,
   "id": "0ac6d5a7",
   "metadata": {},
   "outputs": [
    {
     "name": "stdout",
     "output_type": "stream",
     "text": [
      "[0.8828321]\n",
      "101\n",
      "1 day input [0.76258845 0.77126499 0.77565033 0.76855738 0.75914442 0.74001395\n",
      " 0.74325866 0.7563759  0.71880156 0.72210164 0.74854099 0.74567281\n",
      " 0.71628775 0.72875716 0.76371801 0.71412277 0.73231747 0.73000853\n",
      " 0.76563936 0.73765518 0.74011362 0.75642019 0.75549551 0.72178603\n",
      " 0.72489784 0.72696316 0.73285456 0.72798197 0.72794321 0.72366308\n",
      " 0.73532408 0.7357006  0.74458755 0.78182966 0.83120896 0.82583803\n",
      " 0.84232179 0.84863401 0.85984098 0.84541699 0.85084883 0.84391646\n",
      " 0.86791398 0.86652972 0.87041118 0.86445887 0.86409342 0.84979125\n",
      " 0.87604235 0.88157938 0.8710867  0.90877177 0.92744266 0.90570426\n",
      " 0.89993466 0.8798629  0.88425931 0.89676194 0.90483494 0.87151305\n",
      " 0.85950322 0.82084916 0.83679029 0.86411003 0.86994607 0.85530061\n",
      " 0.86030055 0.87992935 0.87283087 0.90987918 0.91089246 0.92054905\n",
      " 0.91078726 0.90755916 0.92103077 0.91516705 0.90242633 0.92789116\n",
      " 0.932725   0.9305877  0.93584789 0.95090309 0.94817333 0.95853313\n",
      " 0.94717113 0.9400062  0.95075913 0.9326807  0.95152324 0.95725961\n",
      " 0.95500604 0.95913667 0.95923079 0.95953533 0.95661731 0.95459076\n",
      " 0.95852205 0.98967343 1.         0.88283211]\n",
      "1 day output [[0.8839293]]\n",
      "2 day input [0.77126499 0.77565033 0.76855738 0.75914442 0.74001395 0.74325866\n",
      " 0.7563759  0.71880156 0.72210164 0.74854099 0.74567281 0.71628775\n",
      " 0.72875716 0.76371801 0.71412277 0.73231747 0.73000853 0.76563936\n",
      " 0.73765518 0.74011362 0.75642019 0.75549551 0.72178603 0.72489784\n",
      " 0.72696316 0.73285456 0.72798197 0.72794321 0.72366308 0.73532408\n",
      " 0.7357006  0.74458755 0.78182966 0.83120896 0.82583803 0.84232179\n",
      " 0.84863401 0.85984098 0.84541699 0.85084883 0.84391646 0.86791398\n",
      " 0.86652972 0.87041118 0.86445887 0.86409342 0.84979125 0.87604235\n",
      " 0.88157938 0.8710867  0.90877177 0.92744266 0.90570426 0.89993466\n",
      " 0.8798629  0.88425931 0.89676194 0.90483494 0.87151305 0.85950322\n",
      " 0.82084916 0.83679029 0.86411003 0.86994607 0.85530061 0.86030055\n",
      " 0.87992935 0.87283087 0.90987918 0.91089246 0.92054905 0.91078726\n",
      " 0.90755916 0.92103077 0.91516705 0.90242633 0.92789116 0.932725\n",
      " 0.9305877  0.93584789 0.95090309 0.94817333 0.95853313 0.94717113\n",
      " 0.9400062  0.95075913 0.9326807  0.95152324 0.95725961 0.95500604\n",
      " 0.95913667 0.95923079 0.95953533 0.95661731 0.95459076 0.95852205\n",
      " 0.98967343 1.         0.88283211 0.88392931]\n",
      "2 day output [[0.8840663]]\n",
      "3 day input [0.77565033 0.76855738 0.75914442 0.74001395 0.74325866 0.7563759\n",
      " 0.71880156 0.72210164 0.74854099 0.74567281 0.71628775 0.72875716\n",
      " 0.76371801 0.71412277 0.73231747 0.73000853 0.76563936 0.73765518\n",
      " 0.74011362 0.75642019 0.75549551 0.72178603 0.72489784 0.72696316\n",
      " 0.73285456 0.72798197 0.72794321 0.72366308 0.73532408 0.7357006\n",
      " 0.74458755 0.78182966 0.83120896 0.82583803 0.84232179 0.84863401\n",
      " 0.85984098 0.84541699 0.85084883 0.84391646 0.86791398 0.86652972\n",
      " 0.87041118 0.86445887 0.86409342 0.84979125 0.87604235 0.88157938\n",
      " 0.8710867  0.90877177 0.92744266 0.90570426 0.89993466 0.8798629\n",
      " 0.88425931 0.89676194 0.90483494 0.87151305 0.85950322 0.82084916\n",
      " 0.83679029 0.86411003 0.86994607 0.85530061 0.86030055 0.87992935\n",
      " 0.87283087 0.90987918 0.91089246 0.92054905 0.91078726 0.90755916\n",
      " 0.92103077 0.91516705 0.90242633 0.92789116 0.932725   0.9305877\n",
      " 0.93584789 0.95090309 0.94817333 0.95853313 0.94717113 0.9400062\n",
      " 0.95075913 0.9326807  0.95152324 0.95725961 0.95500604 0.95913667\n",
      " 0.95923079 0.95953533 0.95661731 0.95459076 0.95852205 0.98967343\n",
      " 1.         0.88283211 0.88392931 0.88406628]\n",
      "3 day output [[0.88320833]]\n",
      "4 day input [0.76855738 0.75914442 0.74001395 0.74325866 0.7563759  0.71880156\n",
      " 0.72210164 0.74854099 0.74567281 0.71628775 0.72875716 0.76371801\n",
      " 0.71412277 0.73231747 0.73000853 0.76563936 0.73765518 0.74011362\n",
      " 0.75642019 0.75549551 0.72178603 0.72489784 0.72696316 0.73285456\n",
      " 0.72798197 0.72794321 0.72366308 0.73532408 0.7357006  0.74458755\n",
      " 0.78182966 0.83120896 0.82583803 0.84232179 0.84863401 0.85984098\n",
      " 0.84541699 0.85084883 0.84391646 0.86791398 0.86652972 0.87041118\n",
      " 0.86445887 0.86409342 0.84979125 0.87604235 0.88157938 0.8710867\n",
      " 0.90877177 0.92744266 0.90570426 0.89993466 0.8798629  0.88425931\n",
      " 0.89676194 0.90483494 0.87151305 0.85950322 0.82084916 0.83679029\n",
      " 0.86411003 0.86994607 0.85530061 0.86030055 0.87992935 0.87283087\n",
      " 0.90987918 0.91089246 0.92054905 0.91078726 0.90755916 0.92103077\n",
      " 0.91516705 0.90242633 0.92789116 0.932725   0.9305877  0.93584789\n",
      " 0.95090309 0.94817333 0.95853313 0.94717113 0.9400062  0.95075913\n",
      " 0.9326807  0.95152324 0.95725961 0.95500604 0.95913667 0.95923079\n",
      " 0.95953533 0.95661731 0.95459076 0.95852205 0.98967343 1.\n",
      " 0.88283211 0.88392931 0.88406628 0.88320833]\n",
      "4 day output [[0.8814493]]\n",
      "5 day input [0.75914442 0.74001395 0.74325866 0.7563759  0.71880156 0.72210164\n",
      " 0.74854099 0.74567281 0.71628775 0.72875716 0.76371801 0.71412277\n",
      " 0.73231747 0.73000853 0.76563936 0.73765518 0.74011362 0.75642019\n",
      " 0.75549551 0.72178603 0.72489784 0.72696316 0.73285456 0.72798197\n",
      " 0.72794321 0.72366308 0.73532408 0.7357006  0.74458755 0.78182966\n",
      " 0.83120896 0.82583803 0.84232179 0.84863401 0.85984098 0.84541699\n",
      " 0.85084883 0.84391646 0.86791398 0.86652972 0.87041118 0.86445887\n",
      " 0.86409342 0.84979125 0.87604235 0.88157938 0.8710867  0.90877177\n",
      " 0.92744266 0.90570426 0.89993466 0.8798629  0.88425931 0.89676194\n",
      " 0.90483494 0.87151305 0.85950322 0.82084916 0.83679029 0.86411003\n",
      " 0.86994607 0.85530061 0.86030055 0.87992935 0.87283087 0.90987918\n",
      " 0.91089246 0.92054905 0.91078726 0.90755916 0.92103077 0.91516705\n",
      " 0.90242633 0.92789116 0.932725   0.9305877  0.93584789 0.95090309\n",
      " 0.94817333 0.95853313 0.94717113 0.9400062  0.95075913 0.9326807\n",
      " 0.95152324 0.95725961 0.95500604 0.95913667 0.95923079 0.95953533\n",
      " 0.95661731 0.95459076 0.95852205 0.98967343 1.         0.88283211\n",
      " 0.88392931 0.88406628 0.88320833 0.88144928]\n",
      "5 day output [[0.87894166]]\n",
      "6 day input [0.74001395 0.74325866 0.7563759  0.71880156 0.72210164 0.74854099\n",
      " 0.74567281 0.71628775 0.72875716 0.76371801 0.71412277 0.73231747\n",
      " 0.73000853 0.76563936 0.73765518 0.74011362 0.75642019 0.75549551\n",
      " 0.72178603 0.72489784 0.72696316 0.73285456 0.72798197 0.72794321\n",
      " 0.72366308 0.73532408 0.7357006  0.74458755 0.78182966 0.83120896\n",
      " 0.82583803 0.84232179 0.84863401 0.85984098 0.84541699 0.85084883\n",
      " 0.84391646 0.86791398 0.86652972 0.87041118 0.86445887 0.86409342\n",
      " 0.84979125 0.87604235 0.88157938 0.8710867  0.90877177 0.92744266\n",
      " 0.90570426 0.89993466 0.8798629  0.88425931 0.89676194 0.90483494\n",
      " 0.87151305 0.85950322 0.82084916 0.83679029 0.86411003 0.86994607\n",
      " 0.85530061 0.86030055 0.87992935 0.87283087 0.90987918 0.91089246\n",
      " 0.92054905 0.91078726 0.90755916 0.92103077 0.91516705 0.90242633\n",
      " 0.92789116 0.932725   0.9305877  0.93584789 0.95090309 0.94817333\n",
      " 0.95853313 0.94717113 0.9400062  0.95075913 0.9326807  0.95152324\n",
      " 0.95725961 0.95500604 0.95913667 0.95923079 0.95953533 0.95661731\n",
      " 0.95459076 0.95852205 0.98967343 1.         0.88283211 0.88392931\n",
      " 0.88406628 0.88320833 0.88144928 0.87894166]\n",
      "6 day output [[0.87585217]]\n",
      "7 day input [0.74325866 0.7563759  0.71880156 0.72210164 0.74854099 0.74567281\n",
      " 0.71628775 0.72875716 0.76371801 0.71412277 0.73231747 0.73000853\n",
      " 0.76563936 0.73765518 0.74011362 0.75642019 0.75549551 0.72178603\n",
      " 0.72489784 0.72696316 0.73285456 0.72798197 0.72794321 0.72366308\n",
      " 0.73532408 0.7357006  0.74458755 0.78182966 0.83120896 0.82583803\n",
      " 0.84232179 0.84863401 0.85984098 0.84541699 0.85084883 0.84391646\n",
      " 0.86791398 0.86652972 0.87041118 0.86445887 0.86409342 0.84979125\n",
      " 0.87604235 0.88157938 0.8710867  0.90877177 0.92744266 0.90570426\n",
      " 0.89993466 0.8798629  0.88425931 0.89676194 0.90483494 0.87151305\n",
      " 0.85950322 0.82084916 0.83679029 0.86411003 0.86994607 0.85530061\n",
      " 0.86030055 0.87992935 0.87283087 0.90987918 0.91089246 0.92054905\n",
      " 0.91078726 0.90755916 0.92103077 0.91516705 0.90242633 0.92789116\n",
      " 0.932725   0.9305877  0.93584789 0.95090309 0.94817333 0.95853313\n",
      " 0.94717113 0.9400062  0.95075913 0.9326807  0.95152324 0.95725961\n",
      " 0.95500604 0.95913667 0.95923079 0.95953533 0.95661731 0.95459076\n",
      " 0.95852205 0.98967343 1.         0.88283211 0.88392931 0.88406628\n",
      " 0.88320833 0.88144928 0.87894166 0.87585217]\n",
      "7 day output [[0.8723368]]\n",
      "8 day input [0.7563759  0.71880156 0.72210164 0.74854099 0.74567281 0.71628775\n",
      " 0.72875716 0.76371801 0.71412277 0.73231747 0.73000853 0.76563936\n",
      " 0.73765518 0.74011362 0.75642019 0.75549551 0.72178603 0.72489784\n",
      " 0.72696316 0.73285456 0.72798197 0.72794321 0.72366308 0.73532408\n",
      " 0.7357006  0.74458755 0.78182966 0.83120896 0.82583803 0.84232179\n",
      " 0.84863401 0.85984098 0.84541699 0.85084883 0.84391646 0.86791398\n",
      " 0.86652972 0.87041118 0.86445887 0.86409342 0.84979125 0.87604235\n",
      " 0.88157938 0.8710867  0.90877177 0.92744266 0.90570426 0.89993466\n",
      " 0.8798629  0.88425931 0.89676194 0.90483494 0.87151305 0.85950322\n",
      " 0.82084916 0.83679029 0.86411003 0.86994607 0.85530061 0.86030055\n",
      " 0.87992935 0.87283087 0.90987918 0.91089246 0.92054905 0.91078726\n",
      " 0.90755916 0.92103077 0.91516705 0.90242633 0.92789116 0.932725\n",
      " 0.9305877  0.93584789 0.95090309 0.94817333 0.95853313 0.94717113\n",
      " 0.9400062  0.95075913 0.9326807  0.95152324 0.95725961 0.95500604\n",
      " 0.95913667 0.95923079 0.95953533 0.95661731 0.95459076 0.95852205\n",
      " 0.98967343 1.         0.88283211 0.88392931 0.88406628 0.88320833\n",
      " 0.88144928 0.87894166 0.87585217 0.8723368 ]\n",
      "8 day output [[0.8685297]]\n",
      "9 day input [0.71880156 0.72210164 0.74854099 0.74567281 0.71628775 0.72875716\n",
      " 0.76371801 0.71412277 0.73231747 0.73000853 0.76563936 0.73765518\n",
      " 0.74011362 0.75642019 0.75549551 0.72178603 0.72489784 0.72696316\n",
      " 0.73285456 0.72798197 0.72794321 0.72366308 0.73532408 0.7357006\n",
      " 0.74458755 0.78182966 0.83120896 0.82583803 0.84232179 0.84863401\n",
      " 0.85984098 0.84541699 0.85084883 0.84391646 0.86791398 0.86652972\n",
      " 0.87041118 0.86445887 0.86409342 0.84979125 0.87604235 0.88157938\n",
      " 0.8710867  0.90877177 0.92744266 0.90570426 0.89993466 0.8798629\n",
      " 0.88425931 0.89676194 0.90483494 0.87151305 0.85950322 0.82084916\n",
      " 0.83679029 0.86411003 0.86994607 0.85530061 0.86030055 0.87992935\n",
      " 0.87283087 0.90987918 0.91089246 0.92054905 0.91078726 0.90755916\n",
      " 0.92103077 0.91516705 0.90242633 0.92789116 0.932725   0.9305877\n",
      " 0.93584789 0.95090309 0.94817333 0.95853313 0.94717113 0.9400062\n",
      " 0.95075913 0.9326807  0.95152324 0.95725961 0.95500604 0.95913667\n",
      " 0.95923079 0.95953533 0.95661731 0.95459076 0.95852205 0.98967343\n",
      " 1.         0.88283211 0.88392931 0.88406628 0.88320833 0.88144928\n",
      " 0.87894166 0.87585217 0.8723368  0.86852968]\n",
      "9 day output [[0.86453915]]\n",
      "10 day input [0.72210164 0.74854099 0.74567281 0.71628775 0.72875716 0.76371801\n",
      " 0.71412277 0.73231747 0.73000853 0.76563936 0.73765518 0.74011362\n",
      " 0.75642019 0.75549551 0.72178603 0.72489784 0.72696316 0.73285456\n",
      " 0.72798197 0.72794321 0.72366308 0.73532408 0.7357006  0.74458755\n",
      " 0.78182966 0.83120896 0.82583803 0.84232179 0.84863401 0.85984098\n",
      " 0.84541699 0.85084883 0.84391646 0.86791398 0.86652972 0.87041118\n",
      " 0.86445887 0.86409342 0.84979125 0.87604235 0.88157938 0.8710867\n",
      " 0.90877177 0.92744266 0.90570426 0.89993466 0.8798629  0.88425931\n",
      " 0.89676194 0.90483494 0.87151305 0.85950322 0.82084916 0.83679029\n",
      " 0.86411003 0.86994607 0.85530061 0.86030055 0.87992935 0.87283087\n",
      " 0.90987918 0.91089246 0.92054905 0.91078726 0.90755916 0.92103077\n",
      " 0.91516705 0.90242633 0.92789116 0.932725   0.9305877  0.93584789\n",
      " 0.95090309 0.94817333 0.95853313 0.94717113 0.9400062  0.95075913\n",
      " 0.9326807  0.95152324 0.95725961 0.95500604 0.95913667 0.95923079\n",
      " 0.95953533 0.95661731 0.95459076 0.95852205 0.98967343 1.\n",
      " 0.88283211 0.88392931 0.88406628 0.88320833 0.88144928 0.87894166\n",
      " 0.87585217 0.8723368  0.86852968 0.86453915]\n"
     ]
    },
    {
     "name": "stdout",
     "output_type": "stream",
     "text": [
      "10 day output [[0.8604483]]\n",
      "11 day input [0.74854099 0.74567281 0.71628775 0.72875716 0.76371801 0.71412277\n",
      " 0.73231747 0.73000853 0.76563936 0.73765518 0.74011362 0.75642019\n",
      " 0.75549551 0.72178603 0.72489784 0.72696316 0.73285456 0.72798197\n",
      " 0.72794321 0.72366308 0.73532408 0.7357006  0.74458755 0.78182966\n",
      " 0.83120896 0.82583803 0.84232179 0.84863401 0.85984098 0.84541699\n",
      " 0.85084883 0.84391646 0.86791398 0.86652972 0.87041118 0.86445887\n",
      " 0.86409342 0.84979125 0.87604235 0.88157938 0.8710867  0.90877177\n",
      " 0.92744266 0.90570426 0.89993466 0.8798629  0.88425931 0.89676194\n",
      " 0.90483494 0.87151305 0.85950322 0.82084916 0.83679029 0.86411003\n",
      " 0.86994607 0.85530061 0.86030055 0.87992935 0.87283087 0.90987918\n",
      " 0.91089246 0.92054905 0.91078726 0.90755916 0.92103077 0.91516705\n",
      " 0.90242633 0.92789116 0.932725   0.9305877  0.93584789 0.95090309\n",
      " 0.94817333 0.95853313 0.94717113 0.9400062  0.95075913 0.9326807\n",
      " 0.95152324 0.95725961 0.95500604 0.95913667 0.95923079 0.95953533\n",
      " 0.95661731 0.95459076 0.95852205 0.98967343 1.         0.88283211\n",
      " 0.88392931 0.88406628 0.88320833 0.88144928 0.87894166 0.87585217\n",
      " 0.8723368  0.86852968 0.86453915 0.8604483 ]\n",
      "11 day output [[0.856319]]\n",
      "12 day input [0.74567281 0.71628775 0.72875716 0.76371801 0.71412277 0.73231747\n",
      " 0.73000853 0.76563936 0.73765518 0.74011362 0.75642019 0.75549551\n",
      " 0.72178603 0.72489784 0.72696316 0.73285456 0.72798197 0.72794321\n",
      " 0.72366308 0.73532408 0.7357006  0.74458755 0.78182966 0.83120896\n",
      " 0.82583803 0.84232179 0.84863401 0.85984098 0.84541699 0.85084883\n",
      " 0.84391646 0.86791398 0.86652972 0.87041118 0.86445887 0.86409342\n",
      " 0.84979125 0.87604235 0.88157938 0.8710867  0.90877177 0.92744266\n",
      " 0.90570426 0.89993466 0.8798629  0.88425931 0.89676194 0.90483494\n",
      " 0.87151305 0.85950322 0.82084916 0.83679029 0.86411003 0.86994607\n",
      " 0.85530061 0.86030055 0.87992935 0.87283087 0.90987918 0.91089246\n",
      " 0.92054905 0.91078726 0.90755916 0.92103077 0.91516705 0.90242633\n",
      " 0.92789116 0.932725   0.9305877  0.93584789 0.95090309 0.94817333\n",
      " 0.95853313 0.94717113 0.9400062  0.95075913 0.9326807  0.95152324\n",
      " 0.95725961 0.95500604 0.95913667 0.95923079 0.95953533 0.95661731\n",
      " 0.95459076 0.95852205 0.98967343 1.         0.88283211 0.88392931\n",
      " 0.88406628 0.88320833 0.88144928 0.87894166 0.87585217 0.8723368\n",
      " 0.86852968 0.86453915 0.8604483  0.85631901]\n",
      "12 day output [[0.85219485]]\n",
      "13 day input [0.71628775 0.72875716 0.76371801 0.71412277 0.73231747 0.73000853\n",
      " 0.76563936 0.73765518 0.74011362 0.75642019 0.75549551 0.72178603\n",
      " 0.72489784 0.72696316 0.73285456 0.72798197 0.72794321 0.72366308\n",
      " 0.73532408 0.7357006  0.74458755 0.78182966 0.83120896 0.82583803\n",
      " 0.84232179 0.84863401 0.85984098 0.84541699 0.85084883 0.84391646\n",
      " 0.86791398 0.86652972 0.87041118 0.86445887 0.86409342 0.84979125\n",
      " 0.87604235 0.88157938 0.8710867  0.90877177 0.92744266 0.90570426\n",
      " 0.89993466 0.8798629  0.88425931 0.89676194 0.90483494 0.87151305\n",
      " 0.85950322 0.82084916 0.83679029 0.86411003 0.86994607 0.85530061\n",
      " 0.86030055 0.87992935 0.87283087 0.90987918 0.91089246 0.92054905\n",
      " 0.91078726 0.90755916 0.92103077 0.91516705 0.90242633 0.92789116\n",
      " 0.932725   0.9305877  0.93584789 0.95090309 0.94817333 0.95853313\n",
      " 0.94717113 0.9400062  0.95075913 0.9326807  0.95152324 0.95725961\n",
      " 0.95500604 0.95913667 0.95923079 0.95953533 0.95661731 0.95459076\n",
      " 0.95852205 0.98967343 1.         0.88283211 0.88392931 0.88406628\n",
      " 0.88320833 0.88144928 0.87894166 0.87585217 0.8723368  0.86852968\n",
      " 0.86453915 0.8604483  0.85631901 0.85219485]\n",
      "13 day output [[0.8481058]]\n",
      "14 day input [0.72875716 0.76371801 0.71412277 0.73231747 0.73000853 0.76563936\n",
      " 0.73765518 0.74011362 0.75642019 0.75549551 0.72178603 0.72489784\n",
      " 0.72696316 0.73285456 0.72798197 0.72794321 0.72366308 0.73532408\n",
      " 0.7357006  0.74458755 0.78182966 0.83120896 0.82583803 0.84232179\n",
      " 0.84863401 0.85984098 0.84541699 0.85084883 0.84391646 0.86791398\n",
      " 0.86652972 0.87041118 0.86445887 0.86409342 0.84979125 0.87604235\n",
      " 0.88157938 0.8710867  0.90877177 0.92744266 0.90570426 0.89993466\n",
      " 0.8798629  0.88425931 0.89676194 0.90483494 0.87151305 0.85950322\n",
      " 0.82084916 0.83679029 0.86411003 0.86994607 0.85530061 0.86030055\n",
      " 0.87992935 0.87283087 0.90987918 0.91089246 0.92054905 0.91078726\n",
      " 0.90755916 0.92103077 0.91516705 0.90242633 0.92789116 0.932725\n",
      " 0.9305877  0.93584789 0.95090309 0.94817333 0.95853313 0.94717113\n",
      " 0.9400062  0.95075913 0.9326807  0.95152324 0.95725961 0.95500604\n",
      " 0.95913667 0.95923079 0.95953533 0.95661731 0.95459076 0.95852205\n",
      " 0.98967343 1.         0.88283211 0.88392931 0.88406628 0.88320833\n",
      " 0.88144928 0.87894166 0.87585217 0.8723368  0.86852968 0.86453915\n",
      " 0.8604483  0.85631901 0.85219485 0.84810579]\n",
      "14 day output [[0.8440708]]\n",
      "15 day input [0.76371801 0.71412277 0.73231747 0.73000853 0.76563936 0.73765518\n",
      " 0.74011362 0.75642019 0.75549551 0.72178603 0.72489784 0.72696316\n",
      " 0.73285456 0.72798197 0.72794321 0.72366308 0.73532408 0.7357006\n",
      " 0.74458755 0.78182966 0.83120896 0.82583803 0.84232179 0.84863401\n",
      " 0.85984098 0.84541699 0.85084883 0.84391646 0.86791398 0.86652972\n",
      " 0.87041118 0.86445887 0.86409342 0.84979125 0.87604235 0.88157938\n",
      " 0.8710867  0.90877177 0.92744266 0.90570426 0.89993466 0.8798629\n",
      " 0.88425931 0.89676194 0.90483494 0.87151305 0.85950322 0.82084916\n",
      " 0.83679029 0.86411003 0.86994607 0.85530061 0.86030055 0.87992935\n",
      " 0.87283087 0.90987918 0.91089246 0.92054905 0.91078726 0.90755916\n",
      " 0.92103077 0.91516705 0.90242633 0.92789116 0.932725   0.9305877\n",
      " 0.93584789 0.95090309 0.94817333 0.95853313 0.94717113 0.9400062\n",
      " 0.95075913 0.9326807  0.95152324 0.95725961 0.95500604 0.95913667\n",
      " 0.95923079 0.95953533 0.95661731 0.95459076 0.95852205 0.98967343\n",
      " 1.         0.88283211 0.88392931 0.88406628 0.88320833 0.88144928\n",
      " 0.87894166 0.87585217 0.8723368  0.86852968 0.86453915 0.8604483\n",
      " 0.85631901 0.85219485 0.84810579 0.84407079]\n",
      "15 day output [[0.8401015]]\n",
      "16 day input [0.71412277 0.73231747 0.73000853 0.76563936 0.73765518 0.74011362\n",
      " 0.75642019 0.75549551 0.72178603 0.72489784 0.72696316 0.73285456\n",
      " 0.72798197 0.72794321 0.72366308 0.73532408 0.7357006  0.74458755\n",
      " 0.78182966 0.83120896 0.82583803 0.84232179 0.84863401 0.85984098\n",
      " 0.84541699 0.85084883 0.84391646 0.86791398 0.86652972 0.87041118\n",
      " 0.86445887 0.86409342 0.84979125 0.87604235 0.88157938 0.8710867\n",
      " 0.90877177 0.92744266 0.90570426 0.89993466 0.8798629  0.88425931\n",
      " 0.89676194 0.90483494 0.87151305 0.85950322 0.82084916 0.83679029\n",
      " 0.86411003 0.86994607 0.85530061 0.86030055 0.87992935 0.87283087\n",
      " 0.90987918 0.91089246 0.92054905 0.91078726 0.90755916 0.92103077\n",
      " 0.91516705 0.90242633 0.92789116 0.932725   0.9305877  0.93584789\n",
      " 0.95090309 0.94817333 0.95853313 0.94717113 0.9400062  0.95075913\n",
      " 0.9326807  0.95152324 0.95725961 0.95500604 0.95913667 0.95923079\n",
      " 0.95953533 0.95661731 0.95459076 0.95852205 0.98967343 1.\n",
      " 0.88283211 0.88392931 0.88406628 0.88320833 0.88144928 0.87894166\n",
      " 0.87585217 0.8723368  0.86852968 0.86453915 0.8604483  0.85631901\n",
      " 0.85219485 0.84810579 0.84407079 0.84010148]\n",
      "16 day output [[0.8362045]]\n",
      "17 day input [0.73231747 0.73000853 0.76563936 0.73765518 0.74011362 0.75642019\n",
      " 0.75549551 0.72178603 0.72489784 0.72696316 0.73285456 0.72798197\n",
      " 0.72794321 0.72366308 0.73532408 0.7357006  0.74458755 0.78182966\n",
      " 0.83120896 0.82583803 0.84232179 0.84863401 0.85984098 0.84541699\n",
      " 0.85084883 0.84391646 0.86791398 0.86652972 0.87041118 0.86445887\n",
      " 0.86409342 0.84979125 0.87604235 0.88157938 0.8710867  0.90877177\n",
      " 0.92744266 0.90570426 0.89993466 0.8798629  0.88425931 0.89676194\n",
      " 0.90483494 0.87151305 0.85950322 0.82084916 0.83679029 0.86411003\n",
      " 0.86994607 0.85530061 0.86030055 0.87992935 0.87283087 0.90987918\n",
      " 0.91089246 0.92054905 0.91078726 0.90755916 0.92103077 0.91516705\n",
      " 0.90242633 0.92789116 0.932725   0.9305877  0.93584789 0.95090309\n",
      " 0.94817333 0.95853313 0.94717113 0.9400062  0.95075913 0.9326807\n",
      " 0.95152324 0.95725961 0.95500604 0.95913667 0.95923079 0.95953533\n",
      " 0.95661731 0.95459076 0.95852205 0.98967343 1.         0.88283211\n",
      " 0.88392931 0.88406628 0.88320833 0.88144928 0.87894166 0.87585217\n",
      " 0.8723368  0.86852968 0.86453915 0.8604483  0.85631901 0.85219485\n",
      " 0.84810579 0.84407079 0.84010148 0.83620453]\n",
      "17 day output [[0.8323822]]\n",
      "18 day input [0.73000853 0.76563936 0.73765518 0.74011362 0.75642019 0.75549551\n",
      " 0.72178603 0.72489784 0.72696316 0.73285456 0.72798197 0.72794321\n",
      " 0.72366308 0.73532408 0.7357006  0.74458755 0.78182966 0.83120896\n",
      " 0.82583803 0.84232179 0.84863401 0.85984098 0.84541699 0.85084883\n",
      " 0.84391646 0.86791398 0.86652972 0.87041118 0.86445887 0.86409342\n",
      " 0.84979125 0.87604235 0.88157938 0.8710867  0.90877177 0.92744266\n",
      " 0.90570426 0.89993466 0.8798629  0.88425931 0.89676194 0.90483494\n",
      " 0.87151305 0.85950322 0.82084916 0.83679029 0.86411003 0.86994607\n",
      " 0.85530061 0.86030055 0.87992935 0.87283087 0.90987918 0.91089246\n",
      " 0.92054905 0.91078726 0.90755916 0.92103077 0.91516705 0.90242633\n",
      " 0.92789116 0.932725   0.9305877  0.93584789 0.95090309 0.94817333\n",
      " 0.95853313 0.94717113 0.9400062  0.95075913 0.9326807  0.95152324\n",
      " 0.95725961 0.95500604 0.95913667 0.95923079 0.95953533 0.95661731\n",
      " 0.95459076 0.95852205 0.98967343 1.         0.88283211 0.88392931\n",
      " 0.88406628 0.88320833 0.88144928 0.87894166 0.87585217 0.8723368\n",
      " 0.86852968 0.86453915 0.8604483  0.85631901 0.85219485 0.84810579\n",
      " 0.84407079 0.84010148 0.83620453 0.8323822 ]\n",
      "18 day output [[0.8286345]]\n",
      "19 day input [0.76563936 0.73765518 0.74011362 0.75642019 0.75549551 0.72178603\n",
      " 0.72489784 0.72696316 0.73285456 0.72798197 0.72794321 0.72366308\n",
      " 0.73532408 0.7357006  0.74458755 0.78182966 0.83120896 0.82583803\n",
      " 0.84232179 0.84863401 0.85984098 0.84541699 0.85084883 0.84391646\n",
      " 0.86791398 0.86652972 0.87041118 0.86445887 0.86409342 0.84979125\n",
      " 0.87604235 0.88157938 0.8710867  0.90877177 0.92744266 0.90570426\n",
      " 0.89993466 0.8798629  0.88425931 0.89676194 0.90483494 0.87151305\n",
      " 0.85950322 0.82084916 0.83679029 0.86411003 0.86994607 0.85530061\n",
      " 0.86030055 0.87992935 0.87283087 0.90987918 0.91089246 0.92054905\n",
      " 0.91078726 0.90755916 0.92103077 0.91516705 0.90242633 0.92789116\n",
      " 0.932725   0.9305877  0.93584789 0.95090309 0.94817333 0.95853313\n",
      " 0.94717113 0.9400062  0.95075913 0.9326807  0.95152324 0.95725961\n",
      " 0.95500604 0.95913667 0.95923079 0.95953533 0.95661731 0.95459076\n",
      " 0.95852205 0.98967343 1.         0.88283211 0.88392931 0.88406628\n",
      " 0.88320833 0.88144928 0.87894166 0.87585217 0.8723368  0.86852968\n",
      " 0.86453915 0.8604483  0.85631901 0.85219485 0.84810579 0.84407079\n",
      " 0.84010148 0.83620453 0.8323822  0.8286345 ]\n",
      "19 day output [[0.824961]]\n",
      "20 day input [0.73765518 0.74011362 0.75642019 0.75549551 0.72178603 0.72489784\n",
      " 0.72696316 0.73285456 0.72798197 0.72794321 0.72366308 0.73532408\n",
      " 0.7357006  0.74458755 0.78182966 0.83120896 0.82583803 0.84232179\n",
      " 0.84863401 0.85984098 0.84541699 0.85084883 0.84391646 0.86791398\n",
      " 0.86652972 0.87041118 0.86445887 0.86409342 0.84979125 0.87604235\n",
      " 0.88157938 0.8710867  0.90877177 0.92744266 0.90570426 0.89993466\n",
      " 0.8798629  0.88425931 0.89676194 0.90483494 0.87151305 0.85950322\n",
      " 0.82084916 0.83679029 0.86411003 0.86994607 0.85530061 0.86030055\n",
      " 0.87992935 0.87283087 0.90987918 0.91089246 0.92054905 0.91078726\n",
      " 0.90755916 0.92103077 0.91516705 0.90242633 0.92789116 0.932725\n",
      " 0.9305877  0.93584789 0.95090309 0.94817333 0.95853313 0.94717113\n",
      " 0.9400062  0.95075913 0.9326807  0.95152324 0.95725961 0.95500604\n",
      " 0.95913667 0.95923079 0.95953533 0.95661731 0.95459076 0.95852205\n",
      " 0.98967343 1.         0.88283211 0.88392931 0.88406628 0.88320833\n",
      " 0.88144928 0.87894166 0.87585217 0.8723368  0.86852968 0.86453915\n",
      " 0.8604483  0.85631901 0.85219485 0.84810579 0.84407079 0.84010148\n",
      " 0.83620453 0.8323822  0.8286345  0.82496101]\n"
     ]
    },
    {
     "name": "stdout",
     "output_type": "stream",
     "text": [
      "20 day output [[0.82135934]]\n",
      "21 day input [0.74011362 0.75642019 0.75549551 0.72178603 0.72489784 0.72696316\n",
      " 0.73285456 0.72798197 0.72794321 0.72366308 0.73532408 0.7357006\n",
      " 0.74458755 0.78182966 0.83120896 0.82583803 0.84232179 0.84863401\n",
      " 0.85984098 0.84541699 0.85084883 0.84391646 0.86791398 0.86652972\n",
      " 0.87041118 0.86445887 0.86409342 0.84979125 0.87604235 0.88157938\n",
      " 0.8710867  0.90877177 0.92744266 0.90570426 0.89993466 0.8798629\n",
      " 0.88425931 0.89676194 0.90483494 0.87151305 0.85950322 0.82084916\n",
      " 0.83679029 0.86411003 0.86994607 0.85530061 0.86030055 0.87992935\n",
      " 0.87283087 0.90987918 0.91089246 0.92054905 0.91078726 0.90755916\n",
      " 0.92103077 0.91516705 0.90242633 0.92789116 0.932725   0.9305877\n",
      " 0.93584789 0.95090309 0.94817333 0.95853313 0.94717113 0.9400062\n",
      " 0.95075913 0.9326807  0.95152324 0.95725961 0.95500604 0.95913667\n",
      " 0.95923079 0.95953533 0.95661731 0.95459076 0.95852205 0.98967343\n",
      " 1.         0.88283211 0.88392931 0.88406628 0.88320833 0.88144928\n",
      " 0.87894166 0.87585217 0.8723368  0.86852968 0.86453915 0.8604483\n",
      " 0.85631901 0.85219485 0.84810579 0.84407079 0.84010148 0.83620453\n",
      " 0.8323822  0.8286345  0.82496101 0.82135934]\n",
      "21 day output [[0.8178274]]\n",
      "22 day input [0.75642019 0.75549551 0.72178603 0.72489784 0.72696316 0.73285456\n",
      " 0.72798197 0.72794321 0.72366308 0.73532408 0.7357006  0.74458755\n",
      " 0.78182966 0.83120896 0.82583803 0.84232179 0.84863401 0.85984098\n",
      " 0.84541699 0.85084883 0.84391646 0.86791398 0.86652972 0.87041118\n",
      " 0.86445887 0.86409342 0.84979125 0.87604235 0.88157938 0.8710867\n",
      " 0.90877177 0.92744266 0.90570426 0.89993466 0.8798629  0.88425931\n",
      " 0.89676194 0.90483494 0.87151305 0.85950322 0.82084916 0.83679029\n",
      " 0.86411003 0.86994607 0.85530061 0.86030055 0.87992935 0.87283087\n",
      " 0.90987918 0.91089246 0.92054905 0.91078726 0.90755916 0.92103077\n",
      " 0.91516705 0.90242633 0.92789116 0.932725   0.9305877  0.93584789\n",
      " 0.95090309 0.94817333 0.95853313 0.94717113 0.9400062  0.95075913\n",
      " 0.9326807  0.95152324 0.95725961 0.95500604 0.95913667 0.95923079\n",
      " 0.95953533 0.95661731 0.95459076 0.95852205 0.98967343 1.\n",
      " 0.88283211 0.88392931 0.88406628 0.88320833 0.88144928 0.87894166\n",
      " 0.87585217 0.8723368  0.86852968 0.86453915 0.8604483  0.85631901\n",
      " 0.85219485 0.84810579 0.84407079 0.84010148 0.83620453 0.8323822\n",
      " 0.8286345  0.82496101 0.82135934 0.8178274 ]\n",
      "22 day output [[0.8143622]]\n",
      "23 day input [0.75549551 0.72178603 0.72489784 0.72696316 0.73285456 0.72798197\n",
      " 0.72794321 0.72366308 0.73532408 0.7357006  0.74458755 0.78182966\n",
      " 0.83120896 0.82583803 0.84232179 0.84863401 0.85984098 0.84541699\n",
      " 0.85084883 0.84391646 0.86791398 0.86652972 0.87041118 0.86445887\n",
      " 0.86409342 0.84979125 0.87604235 0.88157938 0.8710867  0.90877177\n",
      " 0.92744266 0.90570426 0.89993466 0.8798629  0.88425931 0.89676194\n",
      " 0.90483494 0.87151305 0.85950322 0.82084916 0.83679029 0.86411003\n",
      " 0.86994607 0.85530061 0.86030055 0.87992935 0.87283087 0.90987918\n",
      " 0.91089246 0.92054905 0.91078726 0.90755916 0.92103077 0.91516705\n",
      " 0.90242633 0.92789116 0.932725   0.9305877  0.93584789 0.95090309\n",
      " 0.94817333 0.95853313 0.94717113 0.9400062  0.95075913 0.9326807\n",
      " 0.95152324 0.95725961 0.95500604 0.95913667 0.95923079 0.95953533\n",
      " 0.95661731 0.95459076 0.95852205 0.98967343 1.         0.88283211\n",
      " 0.88392931 0.88406628 0.88320833 0.88144928 0.87894166 0.87585217\n",
      " 0.8723368  0.86852968 0.86453915 0.8604483  0.85631901 0.85219485\n",
      " 0.84810579 0.84407079 0.84010148 0.83620453 0.8323822  0.8286345\n",
      " 0.82496101 0.82135934 0.8178274  0.81436223]\n",
      "23 day output [[0.8109618]]\n",
      "24 day input [0.72178603 0.72489784 0.72696316 0.73285456 0.72798197 0.72794321\n",
      " 0.72366308 0.73532408 0.7357006  0.74458755 0.78182966 0.83120896\n",
      " 0.82583803 0.84232179 0.84863401 0.85984098 0.84541699 0.85084883\n",
      " 0.84391646 0.86791398 0.86652972 0.87041118 0.86445887 0.86409342\n",
      " 0.84979125 0.87604235 0.88157938 0.8710867  0.90877177 0.92744266\n",
      " 0.90570426 0.89993466 0.8798629  0.88425931 0.89676194 0.90483494\n",
      " 0.87151305 0.85950322 0.82084916 0.83679029 0.86411003 0.86994607\n",
      " 0.85530061 0.86030055 0.87992935 0.87283087 0.90987918 0.91089246\n",
      " 0.92054905 0.91078726 0.90755916 0.92103077 0.91516705 0.90242633\n",
      " 0.92789116 0.932725   0.9305877  0.93584789 0.95090309 0.94817333\n",
      " 0.95853313 0.94717113 0.9400062  0.95075913 0.9326807  0.95152324\n",
      " 0.95725961 0.95500604 0.95913667 0.95923079 0.95953533 0.95661731\n",
      " 0.95459076 0.95852205 0.98967343 1.         0.88283211 0.88392931\n",
      " 0.88406628 0.88320833 0.88144928 0.87894166 0.87585217 0.8723368\n",
      " 0.86852968 0.86453915 0.8604483  0.85631901 0.85219485 0.84810579\n",
      " 0.84407079 0.84010148 0.83620453 0.8323822  0.8286345  0.82496101\n",
      " 0.82135934 0.8178274  0.81436223 0.81096178]\n",
      "24 day output [[0.8076234]]\n",
      "25 day input [0.72489784 0.72696316 0.73285456 0.72798197 0.72794321 0.72366308\n",
      " 0.73532408 0.7357006  0.74458755 0.78182966 0.83120896 0.82583803\n",
      " 0.84232179 0.84863401 0.85984098 0.84541699 0.85084883 0.84391646\n",
      " 0.86791398 0.86652972 0.87041118 0.86445887 0.86409342 0.84979125\n",
      " 0.87604235 0.88157938 0.8710867  0.90877177 0.92744266 0.90570426\n",
      " 0.89993466 0.8798629  0.88425931 0.89676194 0.90483494 0.87151305\n",
      " 0.85950322 0.82084916 0.83679029 0.86411003 0.86994607 0.85530061\n",
      " 0.86030055 0.87992935 0.87283087 0.90987918 0.91089246 0.92054905\n",
      " 0.91078726 0.90755916 0.92103077 0.91516705 0.90242633 0.92789116\n",
      " 0.932725   0.9305877  0.93584789 0.95090309 0.94817333 0.95853313\n",
      " 0.94717113 0.9400062  0.95075913 0.9326807  0.95152324 0.95725961\n",
      " 0.95500604 0.95913667 0.95923079 0.95953533 0.95661731 0.95459076\n",
      " 0.95852205 0.98967343 1.         0.88283211 0.88392931 0.88406628\n",
      " 0.88320833 0.88144928 0.87894166 0.87585217 0.8723368  0.86852968\n",
      " 0.86453915 0.8604483  0.85631901 0.85219485 0.84810579 0.84407079\n",
      " 0.84010148 0.83620453 0.8323822  0.8286345  0.82496101 0.82135934\n",
      " 0.8178274  0.81436223 0.81096178 0.80762339]\n",
      "25 day output [[0.8043455]]\n",
      "26 day input [0.72696316 0.73285456 0.72798197 0.72794321 0.72366308 0.73532408\n",
      " 0.7357006  0.74458755 0.78182966 0.83120896 0.82583803 0.84232179\n",
      " 0.84863401 0.85984098 0.84541699 0.85084883 0.84391646 0.86791398\n",
      " 0.86652972 0.87041118 0.86445887 0.86409342 0.84979125 0.87604235\n",
      " 0.88157938 0.8710867  0.90877177 0.92744266 0.90570426 0.89993466\n",
      " 0.8798629  0.88425931 0.89676194 0.90483494 0.87151305 0.85950322\n",
      " 0.82084916 0.83679029 0.86411003 0.86994607 0.85530061 0.86030055\n",
      " 0.87992935 0.87283087 0.90987918 0.91089246 0.92054905 0.91078726\n",
      " 0.90755916 0.92103077 0.91516705 0.90242633 0.92789116 0.932725\n",
      " 0.9305877  0.93584789 0.95090309 0.94817333 0.95853313 0.94717113\n",
      " 0.9400062  0.95075913 0.9326807  0.95152324 0.95725961 0.95500604\n",
      " 0.95913667 0.95923079 0.95953533 0.95661731 0.95459076 0.95852205\n",
      " 0.98967343 1.         0.88283211 0.88392931 0.88406628 0.88320833\n",
      " 0.88144928 0.87894166 0.87585217 0.8723368  0.86852968 0.86453915\n",
      " 0.8604483  0.85631901 0.85219485 0.84810579 0.84407079 0.84010148\n",
      " 0.83620453 0.8323822  0.8286345  0.82496101 0.82135934 0.8178274\n",
      " 0.81436223 0.81096178 0.80762339 0.80434549]\n",
      "26 day output [[0.80112535]]\n",
      "27 day input [0.73285456 0.72798197 0.72794321 0.72366308 0.73532408 0.7357006\n",
      " 0.74458755 0.78182966 0.83120896 0.82583803 0.84232179 0.84863401\n",
      " 0.85984098 0.84541699 0.85084883 0.84391646 0.86791398 0.86652972\n",
      " 0.87041118 0.86445887 0.86409342 0.84979125 0.87604235 0.88157938\n",
      " 0.8710867  0.90877177 0.92744266 0.90570426 0.89993466 0.8798629\n",
      " 0.88425931 0.89676194 0.90483494 0.87151305 0.85950322 0.82084916\n",
      " 0.83679029 0.86411003 0.86994607 0.85530061 0.86030055 0.87992935\n",
      " 0.87283087 0.90987918 0.91089246 0.92054905 0.91078726 0.90755916\n",
      " 0.92103077 0.91516705 0.90242633 0.92789116 0.932725   0.9305877\n",
      " 0.93584789 0.95090309 0.94817333 0.95853313 0.94717113 0.9400062\n",
      " 0.95075913 0.9326807  0.95152324 0.95725961 0.95500604 0.95913667\n",
      " 0.95923079 0.95953533 0.95661731 0.95459076 0.95852205 0.98967343\n",
      " 1.         0.88283211 0.88392931 0.88406628 0.88320833 0.88144928\n",
      " 0.87894166 0.87585217 0.8723368  0.86852968 0.86453915 0.8604483\n",
      " 0.85631901 0.85219485 0.84810579 0.84407079 0.84010148 0.83620453\n",
      " 0.8323822  0.8286345  0.82496101 0.82135934 0.8178274  0.81436223\n",
      " 0.81096178 0.80762339 0.80434549 0.80112535]\n",
      "27 day output [[0.797961]]\n",
      "28 day input [0.72798197 0.72794321 0.72366308 0.73532408 0.7357006  0.74458755\n",
      " 0.78182966 0.83120896 0.82583803 0.84232179 0.84863401 0.85984098\n",
      " 0.84541699 0.85084883 0.84391646 0.86791398 0.86652972 0.87041118\n",
      " 0.86445887 0.86409342 0.84979125 0.87604235 0.88157938 0.8710867\n",
      " 0.90877177 0.92744266 0.90570426 0.89993466 0.8798629  0.88425931\n",
      " 0.89676194 0.90483494 0.87151305 0.85950322 0.82084916 0.83679029\n",
      " 0.86411003 0.86994607 0.85530061 0.86030055 0.87992935 0.87283087\n",
      " 0.90987918 0.91089246 0.92054905 0.91078726 0.90755916 0.92103077\n",
      " 0.91516705 0.90242633 0.92789116 0.932725   0.9305877  0.93584789\n",
      " 0.95090309 0.94817333 0.95853313 0.94717113 0.9400062  0.95075913\n",
      " 0.9326807  0.95152324 0.95725961 0.95500604 0.95913667 0.95923079\n",
      " 0.95953533 0.95661731 0.95459076 0.95852205 0.98967343 1.\n",
      " 0.88283211 0.88392931 0.88406628 0.88320833 0.88144928 0.87894166\n",
      " 0.87585217 0.8723368  0.86852968 0.86453915 0.8604483  0.85631901\n",
      " 0.85219485 0.84810579 0.84407079 0.84010148 0.83620453 0.8323822\n",
      " 0.8286345  0.82496101 0.82135934 0.8178274  0.81436223 0.81096178\n",
      " 0.80762339 0.80434549 0.80112535 0.797961  ]\n",
      "28 day output [[0.7948509]]\n",
      "29 day input [0.72794321 0.72366308 0.73532408 0.7357006  0.74458755 0.78182966\n",
      " 0.83120896 0.82583803 0.84232179 0.84863401 0.85984098 0.84541699\n",
      " 0.85084883 0.84391646 0.86791398 0.86652972 0.87041118 0.86445887\n",
      " 0.86409342 0.84979125 0.87604235 0.88157938 0.8710867  0.90877177\n",
      " 0.92744266 0.90570426 0.89993466 0.8798629  0.88425931 0.89676194\n",
      " 0.90483494 0.87151305 0.85950322 0.82084916 0.83679029 0.86411003\n",
      " 0.86994607 0.85530061 0.86030055 0.87992935 0.87283087 0.90987918\n",
      " 0.91089246 0.92054905 0.91078726 0.90755916 0.92103077 0.91516705\n",
      " 0.90242633 0.92789116 0.932725   0.9305877  0.93584789 0.95090309\n",
      " 0.94817333 0.95853313 0.94717113 0.9400062  0.95075913 0.9326807\n",
      " 0.95152324 0.95725961 0.95500604 0.95913667 0.95923079 0.95953533\n",
      " 0.95661731 0.95459076 0.95852205 0.98967343 1.         0.88283211\n",
      " 0.88392931 0.88406628 0.88320833 0.88144928 0.87894166 0.87585217\n",
      " 0.8723368  0.86852968 0.86453915 0.8604483  0.85631901 0.85219485\n",
      " 0.84810579 0.84407079 0.84010148 0.83620453 0.8323822  0.8286345\n",
      " 0.82496101 0.82135934 0.8178274  0.81436223 0.81096178 0.80762339\n",
      " 0.80434549 0.80112535 0.797961   0.79485089]\n"
     ]
    },
    {
     "name": "stdout",
     "output_type": "stream",
     "text": [
      "29 day output [[0.7917933]]\n",
      "[[0.8828321099281311], [0.8839293122291565], [0.8840662837028503], [0.8832083344459534], [0.881449282169342], [0.8789416551589966], [0.8758521676063538], [0.8723368048667908], [0.8685296773910522], [0.8645391464233398], [0.8604483008384705], [0.856319010257721], [0.8521948456764221], [0.848105788230896], [0.8440707921981812], [0.8401014804840088], [0.8362045288085938], [0.8323822021484375], [0.82863450050354], [0.8249610066413879], [0.8213593363761902], [0.8178274035453796], [0.8143622279167175], [0.8109617829322815], [0.8076233863830566], [0.8043454885482788], [0.8011253476142883], [0.7979609966278076], [0.7948508858680725], [0.7917932868003845]]\n"
     ]
    }
   ],
   "source": [
    "# demonstrate prediction for next 10 days\n",
    "from numpy import array\n",
    "\n",
    "lst_output=[]\n",
    "n_steps=100\n",
    "i=0\n",
    "while(i<30):\n",
    "    \n",
    "    if(len(temp_input)>100):\n",
    "        #print(temp_input)\n",
    "        x_input=np.array(temp_input[1:])\n",
    "        print(\"{} day input {}\".format(i,x_input))\n",
    "        x_input=x_input.reshape(1,-1)\n",
    "        x_input = x_input.reshape((1, n_steps, 1))\n",
    "        #print(x_input)\n",
    "        yhat = model.predict(x_input, verbose=0)\n",
    "        print(\"{} day output {}\".format(i,yhat))\n",
    "        temp_input.extend(yhat[0].tolist())\n",
    "        temp_input=temp_input[1:]\n",
    "        #print(temp_input)\n",
    "        lst_output.extend(yhat.tolist())\n",
    "        i=i+1\n",
    "    else:\n",
    "        x_input = x_input.reshape((1, n_steps,1))\n",
    "        yhat = model.predict(x_input, verbose=0)\n",
    "        print(yhat[0])\n",
    "        temp_input.extend(yhat[0].tolist())\n",
    "        print(len(temp_input))\n",
    "        lst_output.extend(yhat.tolist())\n",
    "        i=i+1\n",
    "    \n",
    "\n",
    "print(lst_output)"
   ]
  },
  {
   "cell_type": "code",
   "execution_count": 113,
   "id": "f10ee445",
   "metadata": {},
   "outputs": [],
   "source": [
    "day_new=np.arange(1,101)\n",
    "day_pred=np.arange(101,131)"
   ]
  },
  {
   "cell_type": "code",
   "execution_count": 114,
   "id": "87c0a0b8",
   "metadata": {},
   "outputs": [
    {
     "data": {
      "text/plain": [
       "1257"
      ]
     },
     "execution_count": 114,
     "metadata": {},
     "output_type": "execute_result"
    }
   ],
   "source": [
    "len(df1)"
   ]
  },
  {
   "cell_type": "code",
   "execution_count": 115,
   "id": "7ac68d48",
   "metadata": {},
   "outputs": [
    {
     "data": {
      "text/plain": [
       "[<matplotlib.lines.Line2D at 0x28d1fe514c0>]"
      ]
     },
     "execution_count": 115,
     "metadata": {},
     "output_type": "execute_result"
    },
    {
     "data": {
      "image/png": "[encoded data removed]",
      "text/plain": [
       "<Figure size 432x288 with 1 Axes>"
      ]
     },
     "metadata": {
      "needs_background": "light"
     },
     "output_type": "display_data"
    }
   ],
   "source": [
    "\n",
    "plt.plot(day_new,scaler.inverse_transform(df1[1157:]))\n",
    "plt.plot(day_pred,scaler.inverse_transform(lst_output))\n"
   ]
  },
  {
   "cell_type": "code",
   "execution_count": 116,
   "id": "c82a7dae",
   "metadata": {},
   "outputs": [
    {
     "data": {
      "text/plain": [
       "[<matplotlib.lines.Line2D at 0x28d1fe8ba90>]"
      ]
     },
     "execution_count": 116,
     "metadata": {},
     "output_type": "execute_result"
    },
    {
     "data": {
      "image/png": "[encoded data removed]",
      "text/plain": [
       "<Figure size 432x288 with 1 Axes>"
      ]
     },
     "metadata": {
      "needs_background": "light"
     },
     "output_type": "display_data"
    }
   ],
   "source": [
    "df3=df1.tolist()\n",
    "df3.extend(lst_output)\n",
    "plt.plot(df3[1200:])"
   ]
  },
  {
   "cell_type": "code",
   "execution_count": 117,
   "id": "8427f232",
   "metadata": {},
   "outputs": [],
   "source": [
    "df3=scaler.inverse_transform(df3).tolist()\n"
   ]
  },
  {
   "cell_type": "code",
   "execution_count": 118,
   "id": "349135f1",
   "metadata": {},
   "outputs": [
    {
     "data": {
      "text/plain": [
       "[<matplotlib.lines.Line2D at 0x28d1edf7d00>]"
      ]
     },
     "execution_count": 118,
     "metadata": {},
     "output_type": "execute_result"
    },
    {
     "data": {
      "image/png": "[encoded data removed]",
      "text/plain": [
       "<Figure size 432x288 with 1 Axes>"
      ]
     },
     "metadata": {
      "needs_background": "light"
     },
     "output_type": "display_data"
    }
   ],
   "source": [
    "plt.plot(df3)"
   ]
  },
  {
   "cell_type": "code",
   "execution_count": null,
   "id": "fcde5364",
   "metadata": {},
   "outputs": [],
   "source": []
  }
 ],
 "metadata": {
  "kernelspec": {
   "display_name": "Python 3",
   "language": "python",
   "name": "python3"
  },
  "language_info": {
   "codemirror_mode": {
    "name": "ipython",
    "version": 3
   },
   "file_extension": ".py",
   "mimetype": "text/x-python",
   "name": "python",
   "nbconvert_exporter": "python",
   "pygments_lexer": "ipython3",
   "version": "3.8.8"
  }
 },
 "nbformat": 4,
 "nbformat_minor": 5
}
